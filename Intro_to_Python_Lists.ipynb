{
  "nbformat": 4,
  "nbformat_minor": 0,
  "metadata": {
    "colab": {
      "provenance": [],
      "authorship_tag": "ABX9TyPaO//GURTeCSwcnm3ALLSf",
      "include_colab_link": true
    },
    "kernelspec": {
      "name": "python3",
      "display_name": "Python 3"
    },
    "language_info": {
      "name": "python"
    }
  },
  "cells": [
    {
      "cell_type": "markdown",
      "metadata": {
        "id": "view-in-github",
        "colab_type": "text"
      },
      "source": [
        "<a href=\"https://colab.research.google.com/github/Dhawaldwivedi/Python-Basics-2/blob/main/Intro_to_Python_Lists.ipynb\" target=\"_parent\"><img src=\"https://colab.research.google.com/assets/colab-badge.svg\" alt=\"Open In Colab\"/></a>"
      ]
    },
    {
      "cell_type": "code",
      "execution_count": 2,
      "metadata": {
        "id": "5lFo4VPLcMX2"
      },
      "outputs": [],
      "source": [
        "# data structures\n",
        "\n",
        "#gfg - batch - 43 , email , id , how many batches enrolled , grade , address\n",
        " # student 1 - 5 variables id - 100\n",
        " #  43*5 variables  - 1 batch\n",
        " # 50 batches  - 50 * 43 * 5 -"
      ]
    },
    {
      "cell_type": "markdown",
      "source": [
        "List"
      ],
      "metadata": {
        "id": "sdleJf4IfMqH"
      }
    },
    {
      "cell_type": "code",
      "source": [
        "lst = []"
      ],
      "metadata": {
        "id": "A1bIg1LhfDW-"
      },
      "execution_count": 3,
      "outputs": []
    },
    {
      "cell_type": "code",
      "source": [
        "type(lst)"
      ],
      "metadata": {
        "colab": {
          "base_uri": "https://localhost:8080/"
        },
        "id": "BWvhfXZ_fnc-",
        "outputId": "c72f8093-ce4a-4ece-c0c9-e57c7f7ab2ad"
      },
      "execution_count": 4,
      "outputs": [
        {
          "output_type": "execute_result",
          "data": {
            "text/plain": [
              "list"
            ]
          },
          "metadata": {},
          "execution_count": 4
        }
      ]
    },
    {
      "cell_type": "code",
      "source": [
        "lst = [1,2,3,4,5]\n",
        "print(lst)"
      ],
      "metadata": {
        "colab": {
          "base_uri": "https://localhost:8080/"
        },
        "id": "VGreqKZLfpZr",
        "outputId": "be4c70b1-7f75-400f-e99a-5dadda53a555"
      },
      "execution_count": 5,
      "outputs": [
        {
          "output_type": "stream",
          "name": "stdout",
          "text": [
            "[1, 2, 3, 4, 5]\n"
          ]
        }
      ]
    },
    {
      "cell_type": "code",
      "source": [
        "lst1 = [\"Dhawal\",\"Harsh\",\"Ankur\",1,2,4]\n",
        "print(lst1)"
      ],
      "metadata": {
        "colab": {
          "base_uri": "https://localhost:8080/"
        },
        "id": "hUQTXnfaf5o8",
        "outputId": "b581ef71-cd5b-49f9-b63b-6c8b65283dac"
      },
      "execution_count": 6,
      "outputs": [
        {
          "output_type": "stream",
          "name": "stdout",
          "text": [
            "['Dhawal', 'Harsh', 'Ankur', 1, 2, 4]\n"
          ]
        }
      ]
    },
    {
      "cell_type": "code",
      "source": [
        "mix_list = [1,\"gfg\",3.14,True]\n",
        "mix_list"
      ],
      "metadata": {
        "colab": {
          "base_uri": "https://localhost:8080/"
        },
        "id": "_Ff97T0tgKUP",
        "outputId": "a643409c-d7bb-4f54-b7ad-549e4485f701"
      },
      "execution_count": 8,
      "outputs": [
        {
          "output_type": "execute_result",
          "data": {
            "text/plain": [
              "[1, 'gfg', 3.14, True]"
            ]
          },
          "metadata": {},
          "execution_count": 8
        }
      ]
    },
    {
      "cell_type": "code",
      "source": [
        "fruits = [\"apple\",\"guava\",\"banana\",\"cherry\",\"grapes\",\"Litchi\"]\n",
        "#           0       1        2        3         4        5\n",
        "print(fruits)"
      ],
      "metadata": {
        "colab": {
          "base_uri": "https://localhost:8080/"
        },
        "id": "eAlt3TiNgWk4",
        "outputId": "51c01bb5-fd16-46fc-9a9d-6157f1794305"
      },
      "execution_count": 14,
      "outputs": [
        {
          "output_type": "stream",
          "name": "stdout",
          "text": [
            "['apple', 'guava', 'banana', 'cherry', 'grapes', 'Litchi']\n"
          ]
        }
      ]
    },
    {
      "cell_type": "code",
      "source": [
        "print(fruits[0])\n",
        "print(fruits[3])\n",
        "print(fruits[5])"
      ],
      "metadata": {
        "colab": {
          "base_uri": "https://localhost:8080/"
        },
        "id": "H7IOrm1Hgugh",
        "outputId": "ef9dea53-39d4-41f6-a955-b31175ba4f77"
      },
      "execution_count": 15,
      "outputs": [
        {
          "output_type": "stream",
          "name": "stdout",
          "text": [
            "apple\n",
            "cherry\n",
            "Litchi\n"
          ]
        }
      ]
    },
    {
      "cell_type": "code",
      "source": [
        "fruits[1:]"
      ],
      "metadata": {
        "colab": {
          "base_uri": "https://localhost:8080/"
        },
        "id": "5zpISdIchBZC",
        "outputId": "f0b0740a-ed77-4f6e-e653-a8ebd7e4e127"
      },
      "execution_count": 16,
      "outputs": [
        {
          "output_type": "execute_result",
          "data": {
            "text/plain": [
              "['guava', 'banana', 'cherry', 'grapes', 'Litchi']"
            ]
          },
          "metadata": {},
          "execution_count": 16
        }
      ]
    },
    {
      "cell_type": "code",
      "source": [
        "# (start index  , end index+1  , step size)\n",
        "fruits[2:4]"
      ],
      "metadata": {
        "colab": {
          "base_uri": "https://localhost:8080/"
        },
        "id": "pinD53Z2hgT6",
        "outputId": "8b7b9b3c-7b12-46b1-e202-abdeadac264e"
      },
      "execution_count": 17,
      "outputs": [
        {
          "output_type": "execute_result",
          "data": {
            "text/plain": [
              "['banana', 'cherry']"
            ]
          },
          "metadata": {},
          "execution_count": 17
        }
      ]
    },
    {
      "cell_type": "code",
      "source": [
        "# modify elements in a list -\n",
        "fruits"
      ],
      "metadata": {
        "colab": {
          "base_uri": "https://localhost:8080/"
        },
        "id": "wheMFpp8hoHa",
        "outputId": "5a0d29a1-b79a-4601-a1c7-052ba7e562f0"
      },
      "execution_count": 18,
      "outputs": [
        {
          "output_type": "execute_result",
          "data": {
            "text/plain": [
              "['apple', 'guava', 'banana', 'cherry', 'grapes', 'Litchi']"
            ]
          },
          "metadata": {},
          "execution_count": 18
        }
      ]
    },
    {
      "cell_type": "code",
      "source": [
        "fruits[1] = \"watermelon\"\n",
        "fruits"
      ],
      "metadata": {
        "colab": {
          "base_uri": "https://localhost:8080/"
        },
        "id": "oFkG5jZhiBQ6",
        "outputId": "15355571-69da-42de-dced-f5bd87f8776e"
      },
      "execution_count": 19,
      "outputs": [
        {
          "output_type": "execute_result",
          "data": {
            "text/plain": [
              "['apple', 'watermelon', 'banana', 'cherry', 'grapes', 'Litchi']"
            ]
          },
          "metadata": {},
          "execution_count": 19
        }
      ]
    },
    {
      "cell_type": "code",
      "source": [
        "fruits[3] = \"mango\"\n",
        "fruits"
      ],
      "metadata": {
        "colab": {
          "base_uri": "https://localhost:8080/"
        },
        "id": "5oTCiFq6iF5F",
        "outputId": "492763c9-1d04-4c00-d41b-2a1f616d90d4"
      },
      "execution_count": 20,
      "outputs": [
        {
          "output_type": "execute_result",
          "data": {
            "text/plain": [
              "['apple', 'watermelon', 'banana', 'mango', 'grapes', 'Litchi']"
            ]
          },
          "metadata": {},
          "execution_count": 20
        }
      ]
    },
    {
      "cell_type": "code",
      "source": [
        "# add element in a list - append\n",
        "fruits.append(\"orange\")"
      ],
      "metadata": {
        "id": "iBij9PTriUTF"
      },
      "execution_count": 21,
      "outputs": []
    },
    {
      "cell_type": "code",
      "source": [
        "fruits.append(\"orange\")"
      ],
      "metadata": {
        "colab": {
          "base_uri": "https://localhost:8080/"
        },
        "id": "IzRNgMWWini-",
        "outputId": "310141d2-70ab-4dd4-dc3b-da8e001a8c90"
      },
      "execution_count": 24,
      "outputs": [
        {
          "output_type": "execute_result",
          "data": {
            "text/plain": [
              "['apple',\n",
              " 'watermelon',\n",
              " 'banana',\n",
              " 'mango',\n",
              " 'grapes',\n",
              " 'Litchi',\n",
              " 'orange',\n",
              " 'orange',\n",
              " 'orange']"
            ]
          },
          "metadata": {},
          "execution_count": 24
        }
      ]
    },
    {
      "cell_type": "code",
      "source": [
        "fruits"
      ],
      "metadata": {
        "colab": {
          "base_uri": "https://localhost:8080/"
        },
        "id": "Z4OID6G3ioWB",
        "outputId": "76326e96-5d62-4262-aba9-1719822a9f6a"
      },
      "execution_count": 25,
      "outputs": [
        {
          "output_type": "execute_result",
          "data": {
            "text/plain": [
              "['apple',\n",
              " 'watermelon',\n",
              " 'banana',\n",
              " 'mango',\n",
              " 'grapes',\n",
              " 'Litchi',\n",
              " 'orange',\n",
              " 'orange',\n",
              " 'orange']"
            ]
          },
          "metadata": {},
          "execution_count": 25
        }
      ]
    },
    {
      "cell_type": "code",
      "source": [
        "fruits.insert(3,\"pineappple\")\n",
        "fruits"
      ],
      "metadata": {
        "colab": {
          "base_uri": "https://localhost:8080/"
        },
        "id": "MMwSc1GfjdwH",
        "outputId": "5c53f621-f104-40bc-9ed0-276c52f3af18"
      },
      "execution_count": 28,
      "outputs": [
        {
          "output_type": "execute_result",
          "data": {
            "text/plain": [
              "['apple',\n",
              " 'watermelon',\n",
              " 'banana',\n",
              " 'pineappple',\n",
              " 'mango',\n",
              " 'grapes',\n",
              " 'Litchi',\n",
              " 'orange',\n",
              " 'orange',\n",
              " 'orange']"
            ]
          },
          "metadata": {},
          "execution_count": 28
        }
      ]
    },
    {
      "cell_type": "code",
      "source": [
        "fruits.pop()\n",
        "fruits"
      ],
      "metadata": {
        "colab": {
          "base_uri": "https://localhost:8080/"
        },
        "id": "-9jYiiJdkJZw",
        "outputId": "27cebef3-6e33-4712-a8be-5ef06c9f18d7"
      },
      "execution_count": 30,
      "outputs": [
        {
          "output_type": "execute_result",
          "data": {
            "text/plain": [
              "['apple',\n",
              " 'watermelon',\n",
              " 'banana',\n",
              " 'pineappple',\n",
              " 'mango',\n",
              " 'grapes',\n",
              " 'Litchi',\n",
              " 'orange']"
            ]
          },
          "metadata": {},
          "execution_count": 30
        }
      ]
    },
    {
      "cell_type": "code",
      "source": [
        "fruits.index(\"mango\")"
      ],
      "metadata": {
        "colab": {
          "base_uri": "https://localhost:8080/"
        },
        "id": "whqlOAFXkaI_",
        "outputId": "1f54cfe7-4e26-4b25-cafe-cb406e49b06f"
      },
      "execution_count": 31,
      "outputs": [
        {
          "output_type": "execute_result",
          "data": {
            "text/plain": [
              "4"
            ]
          },
          "metadata": {},
          "execution_count": 31
        }
      ]
    },
    {
      "cell_type": "code",
      "source": [
        "fruits.append(\"orange\")\n",
        "fruits"
      ],
      "metadata": {
        "colab": {
          "base_uri": "https://localhost:8080/"
        },
        "id": "3qrhqw2Jkq0F",
        "outputId": "483bca97-dc35-4cd8-b4e7-a772aef39782"
      },
      "execution_count": 32,
      "outputs": [
        {
          "output_type": "execute_result",
          "data": {
            "text/plain": [
              "['apple',\n",
              " 'watermelon',\n",
              " 'banana',\n",
              " 'pineappple',\n",
              " 'mango',\n",
              " 'grapes',\n",
              " 'Litchi',\n",
              " 'orange',\n",
              " 'orange']"
            ]
          },
          "metadata": {},
          "execution_count": 32
        }
      ]
    },
    {
      "cell_type": "code",
      "source": [
        "fruits.index(\"orange\")"
      ],
      "metadata": {
        "colab": {
          "base_uri": "https://localhost:8080/"
        },
        "id": "qIVHUeyok0QI",
        "outputId": "ff45530b-1ed3-449b-b012-9e3aeba27e94"
      },
      "execution_count": 33,
      "outputs": [
        {
          "output_type": "execute_result",
          "data": {
            "text/plain": [
              "7"
            ]
          },
          "metadata": {},
          "execution_count": 33
        }
      ]
    },
    {
      "cell_type": "code",
      "source": [
        "fruits.count(\"orange\")"
      ],
      "metadata": {
        "colab": {
          "base_uri": "https://localhost:8080/"
        },
        "id": "J-6wnQEpk4AW",
        "outputId": "77185456-1caf-49f4-b758-407c6f2f702a"
      },
      "execution_count": 34,
      "outputs": [
        {
          "output_type": "execute_result",
          "data": {
            "text/plain": [
              "2"
            ]
          },
          "metadata": {},
          "execution_count": 34
        }
      ]
    },
    {
      "cell_type": "code",
      "source": [
        "# sorting\n",
        "fruits.sort()\n",
        "fruits"
      ],
      "metadata": {
        "colab": {
          "base_uri": "https://localhost:8080/"
        },
        "id": "XTU139vslBMs",
        "outputId": "90074c13-c676-456d-e60a-b8cc7be51c32"
      },
      "execution_count": 35,
      "outputs": [
        {
          "output_type": "execute_result",
          "data": {
            "text/plain": [
              "['Litchi',\n",
              " 'apple',\n",
              " 'banana',\n",
              " 'grapes',\n",
              " 'mango',\n",
              " 'orange',\n",
              " 'orange',\n",
              " 'pineappple',\n",
              " 'watermelon']"
            ]
          },
          "metadata": {},
          "execution_count": 35
        }
      ]
    },
    {
      "cell_type": "code",
      "source": [
        "fruits[0] = \"litchi\"\n"
      ],
      "metadata": {
        "id": "zfkGJI8Vlaxe"
      },
      "execution_count": 36,
      "outputs": []
    },
    {
      "cell_type": "code",
      "source": [
        "fruits.sort()"
      ],
      "metadata": {
        "id": "RtnYhlgplr2p"
      },
      "execution_count": 37,
      "outputs": []
    },
    {
      "cell_type": "code",
      "source": [
        "fruits"
      ],
      "metadata": {
        "colab": {
          "base_uri": "https://localhost:8080/"
        },
        "id": "jhC05lujluSd",
        "outputId": "1f4c434b-9e20-4c19-cc71-95b53438eea0"
      },
      "execution_count": 38,
      "outputs": [
        {
          "output_type": "execute_result",
          "data": {
            "text/plain": [
              "['apple',\n",
              " 'banana',\n",
              " 'grapes',\n",
              " 'litchi',\n",
              " 'mango',\n",
              " 'orange',\n",
              " 'orange',\n",
              " 'pineappple',\n",
              " 'watermelon']"
            ]
          },
          "metadata": {},
          "execution_count": 38
        }
      ]
    },
    {
      "cell_type": "code",
      "source": [
        "fruits.reverse()\n",
        "fruits"
      ],
      "metadata": {
        "colab": {
          "base_uri": "https://localhost:8080/"
        },
        "id": "U_kkm0VXlvDg",
        "outputId": "c9137cad-7caf-4f06-eb1d-9776080ba2ac"
      },
      "execution_count": 39,
      "outputs": [
        {
          "output_type": "execute_result",
          "data": {
            "text/plain": [
              "['watermelon',\n",
              " 'pineappple',\n",
              " 'orange',\n",
              " 'orange',\n",
              " 'mango',\n",
              " 'litchi',\n",
              " 'grapes',\n",
              " 'banana',\n",
              " 'apple']"
            ]
          },
          "metadata": {},
          "execution_count": 39
        }
      ]
    },
    {
      "cell_type": "code",
      "source": [
        "fruits.clear()"
      ],
      "metadata": {
        "id": "8xOGPyr5mENO"
      },
      "execution_count": 40,
      "outputs": []
    },
    {
      "cell_type": "code",
      "source": [
        "fruits"
      ],
      "metadata": {
        "colab": {
          "base_uri": "https://localhost:8080/"
        },
        "id": "2aiPu8ySmJgs",
        "outputId": "652e3b18-61bf-45e4-f938-dc2856b4c2d1"
      },
      "execution_count": 41,
      "outputs": [
        {
          "output_type": "execute_result",
          "data": {
            "text/plain": [
              "[]"
            ]
          },
          "metadata": {},
          "execution_count": 41
        }
      ]
    },
    {
      "cell_type": "code",
      "source": [
        "fruits = [\"apple\",\"guava\",\"banana\",\"cherry\",\"grapes\",\"Litchi\"]"
      ],
      "metadata": {
        "id": "OGwc3zVFmKiH"
      },
      "execution_count": 42,
      "outputs": []
    },
    {
      "cell_type": "code",
      "source": [
        "fruits.remove(\"cherry\")"
      ],
      "metadata": {
        "id": "hZ8qCfmOmdH6"
      },
      "execution_count": 44,
      "outputs": []
    },
    {
      "cell_type": "code",
      "source": [
        "fruits"
      ],
      "metadata": {
        "colab": {
          "base_uri": "https://localhost:8080/"
        },
        "id": "VBuGQUm-mgr8",
        "outputId": "c8d3e939-1261-455c-cd12-24c78415c55d"
      },
      "execution_count": 45,
      "outputs": [
        {
          "output_type": "execute_result",
          "data": {
            "text/plain": [
              "['apple', 'guava', 'banana', 'grapes', 'Litchi']"
            ]
          },
          "metadata": {},
          "execution_count": 45
        }
      ]
    },
    {
      "cell_type": "code",
      "source": [
        "fruits.pop(3)"
      ],
      "metadata": {
        "colab": {
          "base_uri": "https://localhost:8080/",
          "height": 36
        },
        "id": "AX1d-8FGmjr3",
        "outputId": "5bded866-299b-478f-d2a5-ea1fa445ff6b"
      },
      "execution_count": 46,
      "outputs": [
        {
          "output_type": "execute_result",
          "data": {
            "text/plain": [
              "'grapes'"
            ],
            "application/vnd.google.colaboratory.intrinsic+json": {
              "type": "string"
            }
          },
          "metadata": {},
          "execution_count": 46
        }
      ]
    },
    {
      "cell_type": "code",
      "source": [
        "fruits"
      ],
      "metadata": {
        "colab": {
          "base_uri": "https://localhost:8080/"
        },
        "id": "Sr2r6OiAmxXt",
        "outputId": "dcfdd21f-2d1b-460e-8b94-509769874328"
      },
      "execution_count": 47,
      "outputs": [
        {
          "output_type": "execute_result",
          "data": {
            "text/plain": [
              "['apple', 'guava', 'banana', 'Litchi']"
            ]
          },
          "metadata": {},
          "execution_count": 47
        }
      ]
    },
    {
      "cell_type": "code",
      "source": [
        "# more on slicing\n",
        "numbers = [1,2,3,4,5,6,7,8,9,10]"
      ],
      "metadata": {
        "id": "D_g-iv9Zmyah"
      },
      "execution_count": 48,
      "outputs": []
    },
    {
      "cell_type": "code",
      "source": [
        "print(numbers[2:5])"
      ],
      "metadata": {
        "colab": {
          "base_uri": "https://localhost:8080/"
        },
        "id": "wsTcBso7nBe5",
        "outputId": "d3ece769-758a-405c-8ecc-5ec8e010008c"
      },
      "execution_count": 49,
      "outputs": [
        {
          "output_type": "stream",
          "name": "stdout",
          "text": [
            "[3, 4, 5]\n"
          ]
        }
      ]
    },
    {
      "cell_type": "code",
      "source": [
        "print(numbers[:5])"
      ],
      "metadata": {
        "colab": {
          "base_uri": "https://localhost:8080/"
        },
        "id": "ePyKAeqdnF2N",
        "outputId": "6a57e4ba-3043-4bf9-a69f-fa6082a42aeb"
      },
      "execution_count": 50,
      "outputs": [
        {
          "output_type": "stream",
          "name": "stdout",
          "text": [
            "[1, 2, 3, 4, 5]\n"
          ]
        }
      ]
    },
    {
      "cell_type": "code",
      "source": [
        "print(numbers[5:])"
      ],
      "metadata": {
        "colab": {
          "base_uri": "https://localhost:8080/"
        },
        "id": "NPDrGMAZnOMz",
        "outputId": "a9da489c-2405-44f8-abe5-cc3695c8884a"
      },
      "execution_count": 51,
      "outputs": [
        {
          "output_type": "stream",
          "name": "stdout",
          "text": [
            "[6, 7, 8, 9, 10]\n"
          ]
        }
      ]
    },
    {
      "cell_type": "code",
      "source": [
        "# start , end+1, step size\n",
        "print(numbers[ ::2])"
      ],
      "metadata": {
        "colab": {
          "base_uri": "https://localhost:8080/"
        },
        "id": "rUH7CBLHnYqG",
        "outputId": "2735407b-84c0-4dac-cb80-8af2652cc448"
      },
      "execution_count": 52,
      "outputs": [
        {
          "output_type": "stream",
          "name": "stdout",
          "text": [
            "[1, 3, 5, 7, 9]\n"
          ]
        }
      ]
    },
    {
      "cell_type": "code",
      "source": [
        "print(numbers[::-1])"
      ],
      "metadata": {
        "colab": {
          "base_uri": "https://localhost:8080/"
        },
        "id": "DZvYpHeknqaJ",
        "outputId": "91820f77-8266-460c-f647-f74575722783"
      },
      "execution_count": 53,
      "outputs": [
        {
          "output_type": "stream",
          "name": "stdout",
          "text": [
            "[10, 9, 8, 7, 6, 5, 4, 3, 2, 1]\n"
          ]
        }
      ]
    },
    {
      "cell_type": "code",
      "source": [
        "for i in numbers:\n",
        "  print(i)"
      ],
      "metadata": {
        "colab": {
          "base_uri": "https://localhost:8080/"
        },
        "id": "HBKDWc10n_bk",
        "outputId": "3d0401cd-fab2-4388-88c1-c921bb1e6cae"
      },
      "execution_count": 54,
      "outputs": [
        {
          "output_type": "stream",
          "name": "stdout",
          "text": [
            "1\n",
            "2\n",
            "3\n",
            "4\n",
            "5\n",
            "6\n",
            "7\n",
            "8\n",
            "9\n",
            "10\n"
          ]
        }
      ]
    },
    {
      "cell_type": "code",
      "source": [
        "# enumerate\n",
        "for index,number in enumerate(numbers):\n",
        "  print(index,number)"
      ],
      "metadata": {
        "colab": {
          "base_uri": "https://localhost:8080/"
        },
        "id": "uDlcQdxsp11g",
        "outputId": "01b9abbc-4dc5-4e09-85ba-a5fc84e211e6"
      },
      "execution_count": 55,
      "outputs": [
        {
          "output_type": "stream",
          "name": "stdout",
          "text": [
            "0 1\n",
            "1 2\n",
            "2 3\n",
            "3 4\n",
            "4 5\n",
            "5 6\n",
            "6 7\n",
            "7 8\n",
            "8 9\n",
            "9 10\n"
          ]
        }
      ]
    },
    {
      "cell_type": "code",
      "source": [
        "# list comprehension\n",
        "lst = []\n",
        "for i in range(10):\n",
        "  lst.append(i**2)\n"
      ],
      "metadata": {
        "id": "HlK_2LdLqOBe"
      },
      "execution_count": 57,
      "outputs": []
    },
    {
      "cell_type": "code",
      "source": [
        "lst"
      ],
      "metadata": {
        "colab": {
          "base_uri": "https://localhost:8080/"
        },
        "id": "Eb0KWif6rrZo",
        "outputId": "b0d62307-9271-4610-f6d5-d6c4e05e2902"
      },
      "execution_count": 58,
      "outputs": [
        {
          "output_type": "execute_result",
          "data": {
            "text/plain": [
              "[0, 1, 4, 9, 16, 25, 36, 49, 64, 81]"
            ]
          },
          "metadata": {},
          "execution_count": 58
        }
      ]
    },
    {
      "cell_type": "code",
      "source": [
        "[i**2 for i in range(10)]"
      ],
      "metadata": {
        "colab": {
          "base_uri": "https://localhost:8080/"
        },
        "id": "D0ZAfBaQrx-q",
        "outputId": "a74defb1-d8e6-4e4e-a53d-66d2cdb22360"
      },
      "execution_count": 59,
      "outputs": [
        {
          "output_type": "execute_result",
          "data": {
            "text/plain": [
              "[0, 1, 4, 9, 16, 25, 36, 49, 64, 81]"
            ]
          },
          "metadata": {},
          "execution_count": 59
        }
      ]
    },
    {
      "cell_type": "code",
      "source": [
        "even_numbers = [num for num in range(10) if num%2==0]"
      ],
      "metadata": {
        "id": "R1mta3_7r84C"
      },
      "execution_count": 60,
      "outputs": []
    },
    {
      "cell_type": "code",
      "source": [
        "even_numbers"
      ],
      "metadata": {
        "colab": {
          "base_uri": "https://localhost:8080/"
        },
        "id": "bNg_5JxQseTy",
        "outputId": "80b40785-0f6c-4821-d3fd-390c36cca0db"
      },
      "execution_count": 61,
      "outputs": [
        {
          "output_type": "execute_result",
          "data": {
            "text/plain": [
              "[0, 2, 4, 6, 8]"
            ]
          },
          "metadata": {},
          "execution_count": 61
        }
      ]
    },
    {
      "cell_type": "code",
      "source": [
        "lst = []\n",
        "for i in range(10):\n",
        "  if(i%2==0):\n",
        "    lst.append(i)\n",
        "\n",
        "lst\n",
        ""
      ],
      "metadata": {
        "colab": {
          "base_uri": "https://localhost:8080/"
        },
        "id": "n0kb2pc1sf8l",
        "outputId": "d25853bc-585b-4abe-ba0e-91f84df87b95"
      },
      "execution_count": 62,
      "outputs": [
        {
          "output_type": "execute_result",
          "data": {
            "text/plain": [
              "[0, 2, 4, 6, 8]"
            ]
          },
          "metadata": {},
          "execution_count": 62
        }
      ]
    },
    {
      "cell_type": "code",
      "source": [
        "lst1 = [1,2,3,4]\n",
        "lst2 = ['a','b','c','d']\n",
        "nested_list = [[i,j] for i in lst1 for j in lst2]\n",
        "nested_list\n"
      ],
      "metadata": {
        "colab": {
          "base_uri": "https://localhost:8080/"
        },
        "id": "CUu-LEGmswrP",
        "outputId": "34b9a946-bf63-4211-9f00-5906fd378b4e"
      },
      "execution_count": 65,
      "outputs": [
        {
          "output_type": "execute_result",
          "data": {
            "text/plain": [
              "[[1, 'a'],\n",
              " [1, 'b'],\n",
              " [1, 'c'],\n",
              " [1, 'd'],\n",
              " [2, 'a'],\n",
              " [2, 'b'],\n",
              " [2, 'c'],\n",
              " [2, 'd'],\n",
              " [3, 'a'],\n",
              " [3, 'b'],\n",
              " [3, 'c'],\n",
              " [3, 'd'],\n",
              " [4, 'a'],\n",
              " [4, 'b'],\n",
              " [4, 'c'],\n",
              " [4, 'd']]"
            ]
          },
          "metadata": {},
          "execution_count": 65
        }
      ]
    },
    {
      "cell_type": "markdown",
      "source": [
        "ORGANIZING STUDENTS GRADES"
      ],
      "metadata": {
        "id": "tZPxKVlBuvaG"
      }
    },
    {
      "cell_type": "code",
      "source": [
        "# create a list to calculate and store the average marks of students\n",
        "marks = [85,67,83,94,90]\n",
        "# sum , avg , maximum , minimum"
      ],
      "metadata": {
        "id": "42Otym14uej6"
      },
      "execution_count": 66,
      "outputs": []
    },
    {
      "cell_type": "markdown",
      "source": [
        "REMOVE DUPLICATES FROM A LIST"
      ],
      "metadata": {
        "id": "r1NI1Kr1wEtQ"
      }
    },
    {
      "cell_type": "code",
      "source": [
        "lst = [1,2,4,4,5,6,5,4,8,7,9,3]\n",
        "average = sum(lst)/len(lst)\n",
        "lst.append(average)\n",
        "lst.append(sum(lst))\n",
        "lst.append(max(lst))\n",
        "lst.append(min(lst))\n",
        "lst"
      ],
      "metadata": {
        "colab": {
          "base_uri": "https://localhost:8080/"
        },
        "id": "2wfsdsXzwDk1",
        "outputId": "75c62959-9f95-491f-9b88-b08b935ed4c4"
      },
      "execution_count": 68,
      "outputs": [
        {
          "output_type": "execute_result",
          "data": {
            "text/plain": [
              "[1,\n",
              " 2,\n",
              " 4,\n",
              " 4,\n",
              " 5,\n",
              " 6,\n",
              " 5,\n",
              " 4,\n",
              " 8,\n",
              " 7,\n",
              " 9,\n",
              " 3,\n",
              " 4.833333333333333,\n",
              " 62.833333333333336,\n",
              " 62.833333333333336,\n",
              " 1]"
            ]
          },
          "metadata": {},
          "execution_count": 68
        }
      ]
    },
    {
      "cell_type": "code",
      "source": [
        "lst = [1,2,4,4,5,6,5,4,8,7,9,3]"
      ],
      "metadata": {
        "id": "GN-9UKvnwyZ3"
      },
      "execution_count": 70,
      "outputs": []
    },
    {
      "cell_type": "code",
      "source": [
        "average = sum(lst)/len(lst)\n",
        "lst1.append(average)\n",
        "lst1.append(sum(lst))\n",
        "lst1.append(max(lst))\n",
        "lst1.append(min(lst))\n",
        "lst1"
      ],
      "metadata": {
        "colab": {
          "base_uri": "https://localhost:8080/"
        },
        "id": "Va0Ive1rxCwP",
        "outputId": "bffb54ed-0501-4e67-c431-84fb8dea51ee"
      },
      "execution_count": 71,
      "outputs": [
        {
          "output_type": "execute_result",
          "data": {
            "text/plain": [
              "[1, 2, 3, 4, 4.833333333333333, 58, 9, 1]"
            ]
          },
          "metadata": {},
          "execution_count": 71
        }
      ]
    },
    {
      "cell_type": "markdown",
      "source": [
        "REMOVE DUPLICATES FROM A LIST"
      ],
      "metadata": {
        "id": "hLTTKp7VxXCz"
      }
    },
    {
      "cell_type": "code",
      "source": [
        "lst = [1,2,4,4,5,6,5,4,8,7,9,3]\n",
        "lst2 = []\n",
        "for i in lst:\n",
        "  if i not in lst2:\n",
        "    lst2.append(i)\n",
        "\n",
        "lst2"
      ],
      "metadata": {
        "colab": {
          "base_uri": "https://localhost:8080/"
        },
        "id": "A3qYACqfxLOF",
        "outputId": "95abc5db-9bda-40c5-d0f2-1e8ce275edf7"
      },
      "execution_count": 72,
      "outputs": [
        {
          "output_type": "execute_result",
          "data": {
            "text/plain": [
              "[1, 2, 4, 5, 6, 8, 7, 9, 3]"
            ]
          },
          "metadata": {},
          "execution_count": 72
        }
      ]
    },
    {
      "cell_type": "code",
      "source": [
        "# find sum of even numbers in a list\n",
        "lst = [1,2,4,4,5,6,5,4,8,7,9,3]\n",
        "even_sum=0\n",
        "for i in lst:\n",
        "  if i%2==0:\n",
        "    even_sum+=i\n",
        "\n",
        "even_sum"
      ],
      "metadata": {
        "colab": {
          "base_uri": "https://localhost:8080/"
        },
        "id": "3LCHBqs4yN-y",
        "outputId": "9f18b1b2-533f-4a75-94d8-bda601515288"
      },
      "execution_count": 73,
      "outputs": [
        {
          "output_type": "execute_result",
          "data": {
            "text/plain": [
              "28"
            ]
          },
          "metadata": {},
          "execution_count": 73
        }
      ]
    },
    {
      "cell_type": "code",
      "source": [],
      "metadata": {
        "id": "TZb9nglPzXgm"
      },
      "execution_count": null,
      "outputs": []
    }
  ]
}