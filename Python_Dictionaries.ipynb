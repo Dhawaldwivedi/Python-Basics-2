{
  "nbformat": 4,
  "nbformat_minor": 0,
  "metadata": {
    "colab": {
      "provenance": [],
      "authorship_tag": "ABX9TyOV2Vg0scGS4bvpcPjWWfDY",
      "include_colab_link": true
    },
    "kernelspec": {
      "name": "python3",
      "display_name": "Python 3"
    },
    "language_info": {
      "name": "python"
    }
  },
  "cells": [
    {
      "cell_type": "markdown",
      "metadata": {
        "id": "view-in-github",
        "colab_type": "text"
      },
      "source": [
        "<a href=\"https://colab.research.google.com/github/Dhawaldwivedi/Python-Basics-2/blob/main/Python_Dictionaries.ipynb\" target=\"_parent\"><img src=\"https://colab.research.google.com/assets/colab-badge.svg\" alt=\"Open In Colab\"/></a>"
      ]
    },
    {
      "cell_type": "code",
      "execution_count": null,
      "metadata": {
        "id": "T-xF3pdpf1Gc"
      },
      "outputs": [],
      "source": [
        "#python data structures\n",
        "# List  - students= [stu1, stu2, stu3]\n",
        "#         students_roll_no = [1,2,3]\n",
        "#         student_address = [\"Noida\",\"Delhi\",\"Mumbai\"]"
      ]
    },
    {
      "cell_type": "code",
      "source": [
        "# dictionary - key - value pair\n",
        "# 1:stu1 ,2:stu2"
      ],
      "metadata": {
        "id": "_8qV05F4f6UT"
      },
      "execution_count": null,
      "outputs": []
    },
    {
      "cell_type": "code",
      "source": [
        "empty_dict = {}\n",
        "print(type(empty_dict))"
      ],
      "metadata": {
        "colab": {
          "base_uri": "https://localhost:8080/"
        },
        "id": "D0LtJv1rf6cu",
        "outputId": "dda1f74d-88d4-45de-ec70-b436f32e518a"
      },
      "execution_count": 1,
      "outputs": [
        {
          "output_type": "stream",
          "name": "stdout",
          "text": [
            "<class 'dict'>\n"
          ]
        }
      ]
    },
    {
      "cell_type": "code",
      "source": [
        "empty_dict = dict()\n",
        "print(type(empty_dict))"
      ],
      "metadata": {
        "colab": {
          "base_uri": "https://localhost:8080/"
        },
        "id": "vI-WuGgXf6fb",
        "outputId": "e88dec07-5d6b-444f-9207-4c84457e9b1a"
      },
      "execution_count": 2,
      "outputs": [
        {
          "output_type": "stream",
          "name": "stdout",
          "text": [
            "<class 'dict'>\n"
          ]
        }
      ]
    },
    {
      "cell_type": "code",
      "source": [
        "student = {\"name\":\"Dhawal\",\"age\":24,\"grade\":\"A\"}\n",
        "print(student)"
      ],
      "metadata": {
        "colab": {
          "base_uri": "https://localhost:8080/"
        },
        "id": "YNumac5Jf6iU",
        "outputId": "1f2a35fe-0258-4b4b-f214-164350ffb93f"
      },
      "execution_count": 3,
      "outputs": [
        {
          "output_type": "stream",
          "name": "stdout",
          "text": [
            "{'name': 'Dhawal', 'age': 24, 'grade': 'A'}\n"
          ]
        }
      ]
    },
    {
      "cell_type": "code",
      "source": [
        "students = {\"Dhawal\":\"name\",24:\"age\",\"A\":\"grade\"}\n",
        "print(students)"
      ],
      "metadata": {
        "colab": {
          "base_uri": "https://localhost:8080/"
        },
        "id": "kxuuihj7f6lV",
        "outputId": "5635b2ac-aab4-4f16-e6f7-eaeed628d448"
      },
      "execution_count": 4,
      "outputs": [
        {
          "output_type": "stream",
          "name": "stdout",
          "text": [
            "{'Dhawal': 'name', 24: 'age', 'A': 'grade'}\n"
          ]
        }
      ]
    },
    {
      "cell_type": "code",
      "source": [
        "student = {\"name\":\"Dhawal\",\"age\":24,\"grade\":\"A\",\"name\":\"gfg\"}\n",
        "student"
      ],
      "metadata": {
        "colab": {
          "base_uri": "https://localhost:8080/"
        },
        "id": "yP4aKm7mf6oV",
        "outputId": "c6712caf-859c-40eb-fd9b-434a96e9942f"
      },
      "execution_count": 5,
      "outputs": [
        {
          "output_type": "execute_result",
          "data": {
            "text/plain": [
              "{'name': 'gfg', 'age': 24, 'grade': 'A'}"
            ]
          },
          "metadata": {},
          "execution_count": 5
        }
      ]
    },
    {
      "cell_type": "code",
      "source": [
        "student[\"name\"]"
      ],
      "metadata": {
        "colab": {
          "base_uri": "https://localhost:8080/",
          "height": 36
        },
        "id": "pqz6C_Qcf6rO",
        "outputId": "410a63ca-0564-41c9-e911-ed9d6b4872c1"
      },
      "execution_count": 8,
      "outputs": [
        {
          "output_type": "execute_result",
          "data": {
            "text/plain": [
              "'gfg'"
            ],
            "application/vnd.google.colaboratory.intrinsic+json": {
              "type": "string"
            }
          },
          "metadata": {},
          "execution_count": 8
        }
      ]
    },
    {
      "cell_type": "code",
      "source": [
        "student['age']"
      ],
      "metadata": {
        "colab": {
          "base_uri": "https://localhost:8080/"
        },
        "id": "UY_iY8s_f6uc",
        "outputId": "b516495d-5ba9-46fa-bdfa-826327f7f1d8"
      },
      "execution_count": 7,
      "outputs": [
        {
          "output_type": "execute_result",
          "data": {
            "text/plain": [
              "24"
            ]
          },
          "metadata": {},
          "execution_count": 7
        }
      ]
    },
    {
      "cell_type": "code",
      "source": [
        "student[\"A\"]"
      ],
      "metadata": {
        "colab": {
          "base_uri": "https://localhost:8080/",
          "height": 141
        },
        "id": "rbciJNjnf6xY",
        "outputId": "8a7d9502-e5c0-4d9b-f1a9-ea44c16b6feb"
      },
      "execution_count": 10,
      "outputs": [
        {
          "output_type": "error",
          "ename": "KeyError",
          "evalue": "'A'",
          "traceback": [
            "\u001b[0;31m---------------------------------------------------------------------------\u001b[0m",
            "\u001b[0;31mKeyError\u001b[0m                                  Traceback (most recent call last)",
            "\u001b[0;32m/tmp/ipython-input-10-4139658371.py\u001b[0m in \u001b[0;36m<cell line: 0>\u001b[0;34m()\u001b[0m\n\u001b[0;32m----> 1\u001b[0;31m \u001b[0mstudent\u001b[0m\u001b[0;34m[\u001b[0m\u001b[0;34m\"A\"\u001b[0m\u001b[0;34m]\u001b[0m\u001b[0;34m\u001b[0m\u001b[0;34m\u001b[0m\u001b[0m\n\u001b[0m",
            "\u001b[0;31mKeyError\u001b[0m: 'A'"
          ]
        }
      ]
    },
    {
      "cell_type": "code",
      "source": [
        "# get method\n",
        "student.get(\"name\")"
      ],
      "metadata": {
        "colab": {
          "base_uri": "https://localhost:8080/",
          "height": 36
        },
        "id": "MTtJS1edf60S",
        "outputId": "ee4a0aa1-e6ca-4bab-83ba-e4d4e257d8dd"
      },
      "execution_count": 11,
      "outputs": [
        {
          "output_type": "execute_result",
          "data": {
            "text/plain": [
              "'gfg'"
            ],
            "application/vnd.google.colaboratory.intrinsic+json": {
              "type": "string"
            }
          },
          "metadata": {},
          "execution_count": 11
        }
      ]
    },
    {
      "cell_type": "code",
      "source": [
        "student.get('grade')"
      ],
      "metadata": {
        "colab": {
          "base_uri": "https://localhost:8080/",
          "height": 36
        },
        "id": "TQN1fFQef63e",
        "outputId": "0eaeeba3-69e3-44d0-f55f-ff87d06bf746"
      },
      "execution_count": 12,
      "outputs": [
        {
          "output_type": "execute_result",
          "data": {
            "text/plain": [
              "'A'"
            ],
            "application/vnd.google.colaboratory.intrinsic+json": {
              "type": "string"
            }
          },
          "metadata": {},
          "execution_count": 12
        }
      ]
    },
    {
      "cell_type": "code",
      "source": [
        "student.get(\"lastname\")"
      ],
      "metadata": {
        "id": "fiz6TTO5f66m"
      },
      "execution_count": 13,
      "outputs": []
    },
    {
      "cell_type": "code",
      "source": [
        "student.get(\"lastname\",\"Not Available\")  # default value"
      ],
      "metadata": {
        "colab": {
          "base_uri": "https://localhost:8080/",
          "height": 36
        },
        "id": "xD161CZKf69n",
        "outputId": "592420d2-50db-46ce-d8e3-3506babf4c51"
      },
      "execution_count": 14,
      "outputs": [
        {
          "output_type": "execute_result",
          "data": {
            "text/plain": [
              "'Not Available'"
            ],
            "application/vnd.google.colaboratory.intrinsic+json": {
              "type": "string"
            }
          },
          "metadata": {},
          "execution_count": 14
        }
      ]
    },
    {
      "cell_type": "code",
      "source": [
        "student"
      ],
      "metadata": {
        "colab": {
          "base_uri": "https://localhost:8080/"
        },
        "id": "jj5HLb99f7Az",
        "outputId": "ea89f4ef-6da8-4144-fc10-2cbc0e73b069"
      },
      "execution_count": 15,
      "outputs": [
        {
          "output_type": "execute_result",
          "data": {
            "text/plain": [
              "{'name': 'gfg', 'age': 24, 'grade': 'A'}"
            ]
          },
          "metadata": {},
          "execution_count": 15
        }
      ]
    },
    {
      "cell_type": "code",
      "source": [
        "# alter values\n",
        "student['name']= \"Dhawal\"\n",
        "student[\"age\"]= 26"
      ],
      "metadata": {
        "id": "RDe71zp3f7EC"
      },
      "execution_count": 16,
      "outputs": []
    },
    {
      "cell_type": "code",
      "source": [
        "student[\"address\"]= \"Noida\"\n",
        "student"
      ],
      "metadata": {
        "colab": {
          "base_uri": "https://localhost:8080/"
        },
        "id": "vOv460-ef7HC",
        "outputId": "84a4af5b-5231-4923-86bf-238df4fb317f"
      },
      "execution_count": 18,
      "outputs": [
        {
          "output_type": "execute_result",
          "data": {
            "text/plain": [
              "{'name': 'Dhawal', 'age': 26, 'grade': 'A', 'address': 'Noida'}"
            ]
          },
          "metadata": {},
          "execution_count": 18
        }
      ]
    },
    {
      "cell_type": "code",
      "source": [
        "del student[\"grade\"]"
      ],
      "metadata": {
        "colab": {
          "base_uri": "https://localhost:8080/",
          "height": 159
        },
        "id": "XN_cDpA9f7KQ",
        "outputId": "dfaa63f5-c3f8-4002-f89a-334eea5433c7"
      },
      "execution_count": 20,
      "outputs": [
        {
          "output_type": "error",
          "ename": "KeyError",
          "evalue": "'grade'",
          "traceback": [
            "\u001b[0;31m---------------------------------------------------------------------------\u001b[0m",
            "\u001b[0;31mKeyError\u001b[0m                                  Traceback (most recent call last)",
            "\u001b[0;32m/tmp/ipython-input-20-2081607806.py\u001b[0m in \u001b[0;36m<cell line: 0>\u001b[0;34m()\u001b[0m\n\u001b[0;32m----> 1\u001b[0;31m \u001b[0;32mdel\u001b[0m \u001b[0mstudent\u001b[0m\u001b[0;34m[\u001b[0m\u001b[0;34m\"grade\"\u001b[0m\u001b[0;34m]\u001b[0m\u001b[0;34m\u001b[0m\u001b[0;34m\u001b[0m\u001b[0m\n\u001b[0m\u001b[1;32m      2\u001b[0m \u001b[0mstudent\u001b[0m\u001b[0;34m\u001b[0m\u001b[0;34m\u001b[0m\u001b[0m\n",
            "\u001b[0;31mKeyError\u001b[0m: 'grade'"
          ]
        }
      ]
    },
    {
      "cell_type": "code",
      "source": [
        "student"
      ],
      "metadata": {
        "colab": {
          "base_uri": "https://localhost:8080/"
        },
        "id": "a7HV0RtJf7NK",
        "outputId": "cb9fd946-dbad-4f2e-9b10-c39c4d658f93"
      },
      "execution_count": 21,
      "outputs": [
        {
          "output_type": "execute_result",
          "data": {
            "text/plain": [
              "{'name': 'Dhawal', 'age': 26, 'address': 'Noida'}"
            ]
          },
          "metadata": {},
          "execution_count": 21
        }
      ]
    },
    {
      "cell_type": "code",
      "source": [
        "student.keys()"
      ],
      "metadata": {
        "colab": {
          "base_uri": "https://localhost:8080/"
        },
        "id": "mnBHWA0Jf7QR",
        "outputId": "786af017-fb60-45d4-9e09-1958aa55a1f2"
      },
      "execution_count": 22,
      "outputs": [
        {
          "output_type": "execute_result",
          "data": {
            "text/plain": [
              "dict_keys(['name', 'age', 'address'])"
            ]
          },
          "metadata": {},
          "execution_count": 22
        }
      ]
    },
    {
      "cell_type": "code",
      "source": [
        "student.values()"
      ],
      "metadata": {
        "colab": {
          "base_uri": "https://localhost:8080/"
        },
        "id": "F_N7u0Vff7TS",
        "outputId": "6d92d07c-d2b6-44a0-ca81-8ec86bad36f4"
      },
      "execution_count": 24,
      "outputs": [
        {
          "output_type": "execute_result",
          "data": {
            "text/plain": [
              "dict_values(['Dhawal', 26, 'Noida'])"
            ]
          },
          "metadata": {},
          "execution_count": 24
        }
      ]
    },
    {
      "cell_type": "code",
      "source": [
        "student.items()"
      ],
      "metadata": {
        "colab": {
          "base_uri": "https://localhost:8080/"
        },
        "id": "ppVdfjUhf7WR",
        "outputId": "1558fe53-7cd8-4180-ee7d-c8bb5f90dbbd"
      },
      "execution_count": 25,
      "outputs": [
        {
          "output_type": "execute_result",
          "data": {
            "text/plain": [
              "dict_items([('name', 'Dhawal'), ('age', 26), ('address', 'Noida')])"
            ]
          },
          "metadata": {},
          "execution_count": 25
        }
      ]
    },
    {
      "cell_type": "code",
      "source": [
        "# concept of shallow copy\n",
        "student_copy = student\n",
        "student_copy"
      ],
      "metadata": {
        "colab": {
          "base_uri": "https://localhost:8080/"
        },
        "id": "uJEbP6kRf7bB",
        "outputId": "2e2a9d29-bde8-4041-920a-a49651209c70"
      },
      "execution_count": 27,
      "outputs": [
        {
          "output_type": "execute_result",
          "data": {
            "text/plain": [
              "{'name': 'Dhawal', 'age': 26, 'address': 'Noida'}"
            ]
          },
          "metadata": {},
          "execution_count": 27
        }
      ]
    },
    {
      "cell_type": "code",
      "source": [
        "student[\"name\"]= \"Dhawal2.0\""
      ],
      "metadata": {
        "id": "5AInvSCHf7ej"
      },
      "execution_count": 28,
      "outputs": []
    },
    {
      "cell_type": "code",
      "source": [
        "print(student)\n",
        "print(student_copy)"
      ],
      "metadata": {
        "colab": {
          "base_uri": "https://localhost:8080/"
        },
        "id": "mUd3UKXpf7hc",
        "outputId": "b719c5c9-ba27-4f6d-fad5-5ed01485ab14"
      },
      "execution_count": 30,
      "outputs": [
        {
          "output_type": "stream",
          "name": "stdout",
          "text": [
            "{'name': 'Dhawal2.0', 'age': 26, 'address': 'Noida'}\n",
            "{'name': 'Dhawal2.0', 'age': 26, 'address': 'Noida'}\n"
          ]
        }
      ]
    },
    {
      "cell_type": "code",
      "source": [
        "student_copy1 = student.copy()\n",
        "student_copy1"
      ],
      "metadata": {
        "colab": {
          "base_uri": "https://localhost:8080/"
        },
        "id": "PQj-M1jAf7kk",
        "outputId": "afc7795d-641e-42e4-cc34-b0f7362122e8"
      },
      "execution_count": 31,
      "outputs": [
        {
          "output_type": "execute_result",
          "data": {
            "text/plain": [
              "{'name': 'Dhawal2.0', 'age': 26, 'address': 'Noida'}"
            ]
          },
          "metadata": {},
          "execution_count": 31
        }
      ]
    },
    {
      "cell_type": "code",
      "source": [
        "student[\"name\"]= \"Dhawal3.0\""
      ],
      "metadata": {
        "id": "FWrST9iwn_9i"
      },
      "execution_count": 32,
      "outputs": []
    },
    {
      "cell_type": "code",
      "source": [],
      "metadata": {
        "id": "kX_pQGP9o_x4"
      },
      "execution_count": null,
      "outputs": []
    },
    {
      "cell_type": "code",
      "source": [],
      "metadata": {
        "id": "AynC5CQDo_1U"
      },
      "execution_count": null,
      "outputs": []
    },
    {
      "cell_type": "code",
      "source": [],
      "metadata": {
        "id": "IGxGO2pho_6o"
      },
      "execution_count": null,
      "outputs": []
    },
    {
      "cell_type": "code",
      "source": [
        "print(student)"
      ],
      "metadata": {
        "colab": {
          "base_uri": "https://localhost:8080/"
        },
        "id": "Q4Ual3gRoADk",
        "outputId": "48101b5e-9c20-4161-8884-c348a292a061"
      },
      "execution_count": 33,
      "outputs": [
        {
          "output_type": "stream",
          "name": "stdout",
          "text": [
            "{'name': 'Dhawal3.0', 'age': 26, 'address': 'Noida'}\n"
          ]
        }
      ]
    },
    {
      "cell_type": "code",
      "source": [
        "print(student_copy1)"
      ],
      "metadata": {
        "colab": {
          "base_uri": "https://localhost:8080/"
        },
        "id": "J3X4lfljoAGS",
        "outputId": "180fbda8-fcbe-4139-9435-4e35e42c0afb"
      },
      "execution_count": 34,
      "outputs": [
        {
          "output_type": "stream",
          "name": "stdout",
          "text": [
            "{'name': 'Dhawal2.0', 'age': 26, 'address': 'Noida'}\n"
          ]
        }
      ]
    },
    {
      "cell_type": "code",
      "source": [
        "print(student_copy)"
      ],
      "metadata": {
        "colab": {
          "base_uri": "https://localhost:8080/"
        },
        "id": "D4iX-3xKoAI0",
        "outputId": "075849da-5a70-453f-e8c3-10967948282c"
      },
      "execution_count": 35,
      "outputs": [
        {
          "output_type": "stream",
          "name": "stdout",
          "text": [
            "{'name': 'Dhawal3.0', 'age': 26, 'address': 'Noida'}\n"
          ]
        }
      ]
    },
    {
      "cell_type": "code",
      "source": [
        "# iteration\n",
        "for i in student.keys():\n",
        "  print(i)\n"
      ],
      "metadata": {
        "colab": {
          "base_uri": "https://localhost:8080/"
        },
        "id": "N_RhnfeSpBlq",
        "outputId": "1fc34269-1ca6-43fe-dd19-66c3a05b7ea3"
      },
      "execution_count": 36,
      "outputs": [
        {
          "output_type": "stream",
          "name": "stdout",
          "text": [
            "name\n",
            "age\n",
            "address\n"
          ]
        }
      ]
    },
    {
      "cell_type": "code",
      "source": [
        "for j in student.values():\n",
        "  print(j)"
      ],
      "metadata": {
        "colab": {
          "base_uri": "https://localhost:8080/"
        },
        "id": "2bMYCry6pBor",
        "outputId": "f7c47097-7f86-4ac3-ad3d-5a3439649117"
      },
      "execution_count": 37,
      "outputs": [
        {
          "output_type": "stream",
          "name": "stdout",
          "text": [
            "Dhawal3.0\n",
            "26\n",
            "Noida\n"
          ]
        }
      ]
    },
    {
      "cell_type": "code",
      "source": [
        "for i,j in student.items():\n",
        "  print(f\"{i}:{j}\")"
      ],
      "metadata": {
        "colab": {
          "base_uri": "https://localhost:8080/"
        },
        "id": "EWdW64BQpBrf",
        "outputId": "22ba5846-9166-40bf-cfd4-32b74642dc9c"
      },
      "execution_count": 41,
      "outputs": [
        {
          "output_type": "stream",
          "name": "stdout",
          "text": [
            "name:Dhawal3.0\n",
            "age:26\n",
            "address:Noida\n"
          ]
        }
      ]
    },
    {
      "cell_type": "code",
      "source": [
        "# nested dictionaries\n",
        "student = {\"student1\":{\"name\":\"Dhawal\",\"age\":24},\n",
        "           \"student2\":{\"name\":\"Harsh\",\"age\":25}}\n"
      ],
      "metadata": {
        "id": "YSJlqAHupBvB"
      },
      "execution_count": 43,
      "outputs": []
    },
    {
      "cell_type": "code",
      "source": [
        "student"
      ],
      "metadata": {
        "colab": {
          "base_uri": "https://localhost:8080/"
        },
        "id": "e3cdHZR6oALY",
        "outputId": "fbd6b923-6f92-4eb6-9825-36dff8b8865e"
      },
      "execution_count": 44,
      "outputs": [
        {
          "output_type": "execute_result",
          "data": {
            "text/plain": [
              "{'student1': {'name': 'Dhawal', 'age': 24},\n",
              " 'student2': {'name': 'Harsh', 'age': 25}}"
            ]
          },
          "metadata": {},
          "execution_count": 44
        }
      ]
    },
    {
      "cell_type": "code",
      "source": [
        "print(student[\"student1\"][\"name\"])"
      ],
      "metadata": {
        "colab": {
          "base_uri": "https://localhost:8080/"
        },
        "id": "uYW1wGkQqJsK",
        "outputId": "3ffe879f-eceb-400a-aa1c-39a931472106"
      },
      "execution_count": 45,
      "outputs": [
        {
          "output_type": "stream",
          "name": "stdout",
          "text": [
            "Dhawal\n"
          ]
        }
      ]
    },
    {
      "cell_type": "code",
      "source": [
        "student[\"student2\"][\"age\"]"
      ],
      "metadata": {
        "colab": {
          "base_uri": "https://localhost:8080/"
        },
        "id": "QB1I7ZzRqJvm",
        "outputId": "3da0b198-162f-4e1b-987a-148da5f3dfc5"
      },
      "execution_count": 46,
      "outputs": [
        {
          "output_type": "execute_result",
          "data": {
            "text/plain": [
              "25"
            ]
          },
          "metadata": {},
          "execution_count": 46
        }
      ]
    },
    {
      "cell_type": "code",
      "source": [
        "# iterate in nested dictionary\n",
        "for student_id , student_info in student.items():  # outer dict\n",
        "  print(f\"{student_id}:{student_info}\")\n",
        "  for key,value in student_info.items():          # inner dict\n",
        "    print(f\"{key}:{value}\")"
      ],
      "metadata": {
        "colab": {
          "base_uri": "https://localhost:8080/"
        },
        "id": "U9jENpO3qJzN",
        "outputId": "f2e6b1c2-d8d9-4f13-8bab-099ec63447e7"
      },
      "execution_count": 47,
      "outputs": [
        {
          "output_type": "stream",
          "name": "stdout",
          "text": [
            "student1:{'name': 'Dhawal', 'age': 24}\n",
            "name:Dhawal\n",
            "age:24\n",
            "student2:{'name': 'Harsh', 'age': 25}\n",
            "name:Harsh\n",
            "age:25\n"
          ]
        }
      ]
    },
    {
      "cell_type": "code",
      "source": [
        "# dictionary comprehension\n",
        "squares = {x:x**2 for x in range(5)}\n",
        "squares"
      ],
      "metadata": {
        "colab": {
          "base_uri": "https://localhost:8080/"
        },
        "id": "h2PAK-06r93y",
        "outputId": "c62b53bb-d88d-4a1d-fdce-691638fad9a9"
      },
      "execution_count": 49,
      "outputs": [
        {
          "output_type": "execute_result",
          "data": {
            "text/plain": [
              "{0: 0, 1: 1, 2: 4, 3: 9, 4: 16}"
            ]
          },
          "metadata": {},
          "execution_count": 49
        }
      ]
    },
    {
      "cell_type": "code",
      "source": [
        "even = {x:x**2 for x in range(10) if x%2==0}\n",
        "even"
      ],
      "metadata": {
        "colab": {
          "base_uri": "https://localhost:8080/"
        },
        "id": "-0lO-Ogkr97A",
        "outputId": "33b5c12d-5fb0-4415-efb0-532036dea4d1"
      },
      "execution_count": 50,
      "outputs": [
        {
          "output_type": "execute_result",
          "data": {
            "text/plain": [
              "{0: 0, 2: 4, 4: 16, 6: 36, 8: 64}"
            ]
          },
          "metadata": {},
          "execution_count": 50
        }
      ]
    },
    {
      "cell_type": "code",
      "source": [
        "# count of elements using a dictionary\n",
        "numbers = [1,1,1,2,2,2,2,2,3,3,4,4,4,4,4,4,4,5]\n",
        "count={}\n",
        "\n",
        "for i in numbers:\n",
        "  if i in count:\n",
        "    count[i]= count[i]+1\n",
        "  else:\n",
        "    count[i]=1                  # count = {1:3,2:}\n",
        "print(count)\n",
        "\n"
      ],
      "metadata": {
        "colab": {
          "base_uri": "https://localhost:8080/"
        },
        "id": "PAivPA6br9-k",
        "outputId": "bc2c0ba1-85bf-4ea5-8672-4f75286c02b9"
      },
      "execution_count": 51,
      "outputs": [
        {
          "output_type": "stream",
          "name": "stdout",
          "text": [
            "{1: 3, 2: 5, 3: 2, 4: 7, 5: 1}\n"
          ]
        }
      ]
    },
    {
      "cell_type": "code",
      "source": [],
      "metadata": {
        "id": "BHkIXJdzoAOq"
      },
      "execution_count": null,
      "outputs": []
    },
    {
      "cell_type": "code",
      "source": [],
      "metadata": {
        "id": "KOT7l9IIoASK"
      },
      "execution_count": null,
      "outputs": []
    },
    {
      "cell_type": "code",
      "source": [],
      "metadata": {
        "id": "G0BjDBXqf7oA"
      },
      "execution_count": null,
      "outputs": []
    },
    {
      "cell_type": "markdown",
      "source": [
        "Question :\n",
        "You are given a list of integers representing the IDs of students who have signed up for an event, but some students have signed up multiple times by mistake. Your task is to:\n",
        "\n",
        "Remove duplicates to get the unique IDs of students who signed up. Identify students who have both signed up and attended the event (IDs are given in a separate list of attendees). Classify each student as: \"Attended\" if they signed up and attended. \"No-show\" if they signed up but did not attend. Finally, print a summary showing the count of \"Attended\" and \"No-show\" students. Input:\n",
        "\n",
        "A list of integers signups, where each element represents a student ID who signed up for the event. (It may contain duplicates.) A list of integers attendees, where each element represents a student ID who attended the event. Output: Print each unique student ID along with its status (\"Attended\" or \"No-show\") and a summary like the example below."
      ],
      "metadata": {
        "id": "pRKXEys_f82d"
      }
    },
    {
      "cell_type": "code",
      "source": [
        "signups = [101,102,103,104,102,105,103,106,107]\n",
        "attendees = [101,102,103,103,105,106]"
      ],
      "metadata": {
        "id": "M76Hfe4_gECS"
      },
      "execution_count": null,
      "outputs": []
    },
    {
      "cell_type": "code",
      "source": [
        "\"\"\" 101 : attended\n",
        "102 : attended\n",
        "103 : attended\n",
        "104 : no show\n",
        "\n",
        "Summary\n",
        "no of attendees =\n",
        "no shows = \"\"\""
      ],
      "metadata": {
        "id": "Hz-sjWKKgHcY"
      },
      "execution_count": null,
      "outputs": []
    },
    {
      "cell_type": "code",
      "source": [
        "signups = [101,102,103,104,102,105,103,106,107]\n",
        "attendees = [101,102,103,103,105,106]\n",
        "\n",
        "unique_signups = set(signups)\n",
        "unique_attendees = set(attendees)\n",
        "\n",
        "attendees_count =0\n",
        "no_show_count =0\n",
        "\n",
        "for i in unique_signups:\n",
        "  if i in unique_attendees:\n",
        "    print(f\"{i}:Attended\")\n",
        "    attendees_count+=1\n",
        "  else:\n",
        "    print(f\"{i}:No show\")\n",
        "    no_show_count+=1\n",
        "\n",
        "print(\"\\nsummary\")\n",
        "print(f\"attended: {attendees_count}\")\n",
        "print(f\"no show: {no_show_count}\")\n"
      ],
      "metadata": {
        "colab": {
          "base_uri": "https://localhost:8080/"
        },
        "id": "E5_2su4ZgHff",
        "outputId": "4a4b17ee-9761-4d05-c4d2-e75b1e711676"
      },
      "execution_count": 54,
      "outputs": [
        {
          "output_type": "stream",
          "name": "stdout",
          "text": [
            "101:Attended\n",
            "102:Attended\n",
            "103:Attended\n",
            "104:No show\n",
            "105:Attended\n",
            "106:Attended\n",
            "107:No show\n",
            "\n",
            "summary\n",
            "attended: 5\n",
            "no show: 2\n"
          ]
        }
      ]
    },
    {
      "cell_type": "code",
      "source": [],
      "metadata": {
        "id": "ag24k2KngHiZ"
      },
      "execution_count": null,
      "outputs": []
    },
    {
      "cell_type": "code",
      "source": [],
      "metadata": {
        "id": "qZJy-VBugHlS"
      },
      "execution_count": null,
      "outputs": []
    },
    {
      "cell_type": "code",
      "source": [],
      "metadata": {
        "id": "fTUImccXgHoE"
      },
      "execution_count": null,
      "outputs": []
    },
    {
      "cell_type": "code",
      "source": [],
      "metadata": {
        "id": "muxVk5SKgHrc"
      },
      "execution_count": null,
      "outputs": []
    },
    {
      "cell_type": "markdown",
      "source": [
        "Unique Common Elements\n",
        "Problem: You are given two lists of integers. Write a program to:\n",
        "\n",
        "Find the unique common elements between the two lists. Print these common elements in sorted order. If there are no common elements, print \"No common elements\"."
      ],
      "metadata": {
        "id": "z8mI40qPgIXO"
      }
    },
    {
      "cell_type": "code",
      "source": [
        "list1 = [1,2,3,4,5,6,7,8]\n",
        "list2 =[0,10,12]\n",
        "\n",
        "un_list1 = set(list1)\n",
        "un_list2 = set(list2)\n",
        "\n",
        "common_elements = un_list1.intersection(un_list2)\n",
        "\n",
        "if common_elements:\n",
        "  print(sorted(common_elements))\n",
        "else:\n",
        "  print(\"no common elements\")"
      ],
      "metadata": {
        "colab": {
          "base_uri": "https://localhost:8080/"
        },
        "id": "-buvxPu7gLw9",
        "outputId": "45849689-049a-4c1e-a932-d58a6499f52d"
      },
      "execution_count": 57,
      "outputs": [
        {
          "output_type": "stream",
          "name": "stdout",
          "text": [
            "no common elements\n"
          ]
        }
      ]
    },
    {
      "cell_type": "code",
      "source": [],
      "metadata": {
        "id": "GqbMreHT1hox"
      },
      "execution_count": null,
      "outputs": []
    },
    {
      "cell_type": "code",
      "source": [],
      "metadata": {
        "id": "KGqBDjuR1hrj"
      },
      "execution_count": null,
      "outputs": []
    },
    {
      "cell_type": "code",
      "source": [
        "text = \"hello world\"\n",
        "# find character count and return a dictionary"
      ],
      "metadata": {
        "id": "wmR6fcST1hud"
      },
      "execution_count": 59,
      "outputs": []
    },
    {
      "cell_type": "code",
      "source": [
        "char_count = {}\n",
        "for i in text:\n",
        "  if i!=\" \":\n",
        "    if i in char_count:\n",
        "      char_count[i]+=1\n",
        "    else:\n",
        "      char_count[i]=1\n",
        "print(char_count)"
      ],
      "metadata": {
        "colab": {
          "base_uri": "https://localhost:8080/"
        },
        "id": "9au9qx7P1hxv",
        "outputId": "ec606397-0a59-4383-f7e6-1aed0f5dfc30"
      },
      "execution_count": 60,
      "outputs": [
        {
          "output_type": "stream",
          "name": "stdout",
          "text": [
            "{'h': 1, 'e': 1, 'l': 3, 'o': 2, 'w': 1, 'r': 1, 'd': 1}\n"
          ]
        }
      ]
    },
    {
      "cell_type": "code",
      "source": [],
      "metadata": {
        "id": "gb19byvP3s_x"
      },
      "execution_count": null,
      "outputs": []
    }
  ]
}