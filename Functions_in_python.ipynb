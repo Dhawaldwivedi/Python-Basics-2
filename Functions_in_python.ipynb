{
  "nbformat": 4,
  "nbformat_minor": 0,
  "metadata": {
    "colab": {
      "provenance": [],
      "authorship_tag": "ABX9TyNJCyYwk3wGDl3hluhzm8xp",
      "include_colab_link": true
    },
    "kernelspec": {
      "name": "python3",
      "display_name": "Python 3"
    },
    "language_info": {
      "name": "python"
    }
  },
  "cells": [
    {
      "cell_type": "markdown",
      "metadata": {
        "id": "view-in-github",
        "colab_type": "text"
      },
      "source": [
        "<a href=\"https://colab.research.google.com/github/Dhawaldwivedi/Python-Basics-2/blob/main/Functions_in_python.ipynb\" target=\"_parent\"><img src=\"https://colab.research.google.com/assets/colab-badge.svg\" alt=\"Open In Colab\"/></a>"
      ]
    },
    {
      "cell_type": "code",
      "execution_count": 1,
      "metadata": {
        "colab": {
          "base_uri": "https://localhost:8080/"
        },
        "id": "WZ9p7wOgTldG",
        "outputId": "78d96b85-3b06-494c-c4fa-15891906aec6"
      },
      "outputs": [
        {
          "output_type": "stream",
          "name": "stdout",
          "text": [
            "hello\n"
          ]
        }
      ],
      "source": [
        "print(\"hello\") # task 1"
      ]
    },
    {
      "cell_type": "code",
      "source": [
        "for i in range(5):   # task 2\n",
        "  print('hello')"
      ],
      "metadata": {
        "colab": {
          "base_uri": "https://localhost:8080/"
        },
        "id": "OpMsSxZoUx_T",
        "outputId": "d5de409d-07e7-46a5-e3aa-29917ab75341"
      },
      "execution_count": 2,
      "outputs": [
        {
          "output_type": "stream",
          "name": "stdout",
          "text": [
            "hello\n",
            "hello\n",
            "hello\n",
            "hello\n",
            "hello\n"
          ]
        }
      ]
    },
    {
      "cell_type": "code",
      "source": [
        "# function definition\n",
        "def fun():\n",
        "  print('Hello')"
      ],
      "metadata": {
        "id": "LwFn8nyvU5er"
      },
      "execution_count": 3,
      "outputs": []
    },
    {
      "cell_type": "code",
      "source": [
        "fun() # function call"
      ],
      "metadata": {
        "colab": {
          "base_uri": "https://localhost:8080/"
        },
        "id": "gmC0c_DWVXJI",
        "outputId": "a527b56a-7284-4335-d8db-2064935abc28"
      },
      "execution_count": 4,
      "outputs": [
        {
          "output_type": "stream",
          "name": "stdout",
          "text": [
            "Hello\n"
          ]
        }
      ]
    },
    {
      "cell_type": "code",
      "source": [
        "fun()\n",
        "fun()\n",
        "fun()"
      ],
      "metadata": {
        "colab": {
          "base_uri": "https://localhost:8080/"
        },
        "id": "iu4SsBK5VbOH",
        "outputId": "a96362de-bff3-4289-99c3-e85ce1344d3e"
      },
      "execution_count": 6,
      "outputs": [
        {
          "output_type": "stream",
          "name": "stdout",
          "text": [
            "Hello\n",
            "Hello\n",
            "Hello\n"
          ]
        }
      ]
    },
    {
      "cell_type": "code",
      "source": [
        "for i in range(5):\n",
        "  fun()"
      ],
      "metadata": {
        "colab": {
          "base_uri": "https://localhost:8080/"
        },
        "id": "q7g_OYrUWBZC",
        "outputId": "4c5b6f12-3f35-4778-9888-4d4052e25c48"
      },
      "execution_count": 7,
      "outputs": [
        {
          "output_type": "stream",
          "name": "stdout",
          "text": [
            "Hello\n",
            "Hello\n",
            "Hello\n",
            "Hello\n",
            "Hello\n"
          ]
        }
      ]
    },
    {
      "cell_type": "code",
      "source": [
        "def fun1():\n",
        "  for i in range(1,10):\n",
        "    print(\"hello\")\n"
      ],
      "metadata": {
        "id": "0LFqRC_7WIT0"
      },
      "execution_count": 8,
      "outputs": []
    },
    {
      "cell_type": "code",
      "source": [
        "fun1()"
      ],
      "metadata": {
        "colab": {
          "base_uri": "https://localhost:8080/"
        },
        "id": "FxlVTGcbWaz0",
        "outputId": "a7ec2a5c-6c0f-4e7a-bc7a-0429b65685b0"
      },
      "execution_count": 9,
      "outputs": [
        {
          "output_type": "stream",
          "name": "stdout",
          "text": [
            "hello\n",
            "hello\n",
            "hello\n",
            "hello\n",
            "hello\n",
            "hello\n",
            "hello\n",
            "hello\n",
            "hello\n"
          ]
        }
      ]
    },
    {
      "cell_type": "code",
      "source": [
        "# types of function - default functions print() ,input() , len()\n",
        "# user defined functions"
      ],
      "metadata": {
        "id": "dofIk1gbWcCZ"
      },
      "execution_count": 10,
      "outputs": []
    },
    {
      "cell_type": "code",
      "source": [
        "# local and global value\n",
        "b = 4\n",
        "def func():\n",
        "  a=2        # local value\n",
        "  print(a)\n"
      ],
      "metadata": {
        "id": "Oy1zcaUWWrZ1"
      },
      "execution_count": 21,
      "outputs": []
    },
    {
      "cell_type": "code",
      "source": [
        "func()"
      ],
      "metadata": {
        "colab": {
          "base_uri": "https://localhost:8080/"
        },
        "id": "-cG85M2YYMoT",
        "outputId": "f821c506-ccc6-4236-a846-f8f0b0a5cc64"
      },
      "execution_count": 22,
      "outputs": [
        {
          "output_type": "stream",
          "name": "stdout",
          "text": [
            "2\n"
          ]
        }
      ]
    },
    {
      "cell_type": "code",
      "source": [
        "print(b)"
      ],
      "metadata": {
        "colab": {
          "base_uri": "https://localhost:8080/"
        },
        "id": "D8B22DVkYOU2",
        "outputId": "290c2273-ef65-4ebd-b1f3-a70c74dd7a53"
      },
      "execution_count": 24,
      "outputs": [
        {
          "output_type": "stream",
          "name": "stdout",
          "text": [
            "4\n"
          ]
        }
      ]
    },
    {
      "cell_type": "code",
      "source": [
        "def fun():\n",
        "  print(\"hello\")\n",
        "\n",
        "fun()  # hello\n",
        "\n",
        "def fun():\n",
        "  print(\"hey\")\n",
        "\n",
        "fun()  # hey"
      ],
      "metadata": {
        "colab": {
          "base_uri": "https://localhost:8080/"
        },
        "id": "ntUhxq_3YpN4",
        "outputId": "917900a6-9dfd-4f96-948c-7d6d4c343aef"
      },
      "execution_count": 26,
      "outputs": [
        {
          "output_type": "stream",
          "name": "stdout",
          "text": [
            "hello\n",
            "hey\n"
          ]
        }
      ]
    },
    {
      "cell_type": "code",
      "source": [
        "fun()"
      ],
      "metadata": {
        "colab": {
          "base_uri": "https://localhost:8080/"
        },
        "id": "DDJ7nsQoY1YC",
        "outputId": "d61f3d88-43f5-46ff-d2ba-4590b22803e0"
      },
      "execution_count": 27,
      "outputs": [
        {
          "output_type": "stream",
          "name": "stdout",
          "text": [
            "hey\n"
          ]
        }
      ]
    },
    {
      "cell_type": "code",
      "source": [
        "# parameters in a function\n",
        "def fun(name,age):\n",
        "  print(name,age)"
      ],
      "metadata": {
        "id": "mAyVXI_uY7cA"
      },
      "execution_count": 37,
      "outputs": []
    },
    {
      "cell_type": "code",
      "source": [
        "fun(\"Gfg\",25)"
      ],
      "metadata": {
        "colab": {
          "base_uri": "https://localhost:8080/"
        },
        "id": "4RzyxpKRZlF1",
        "outputId": "dc0d9368-bbba-4972-fd39-36c5b5e38e8b"
      },
      "execution_count": 38,
      "outputs": [
        {
          "output_type": "stream",
          "name": "stdout",
          "text": [
            "Gfg 25\n"
          ]
        }
      ]
    },
    {
      "cell_type": "code",
      "source": [
        "fun(\"dhawal\",30)"
      ],
      "metadata": {
        "colab": {
          "base_uri": "https://localhost:8080/"
        },
        "id": "pLTw0mckZmUD",
        "outputId": "6620d691-9670-442f-88a2-ed07504967e6"
      },
      "execution_count": 36,
      "outputs": [
        {
          "output_type": "stream",
          "name": "stdout",
          "text": [
            "Hello dhawal your age is : 30\n"
          ]
        }
      ]
    },
    {
      "cell_type": "code",
      "source": [
        "# return statement\n",
        "def add(a,b,c):\n",
        "  return a+b+c\n"
      ],
      "metadata": {
        "id": "68z58XEvaNw6"
      },
      "execution_count": 42,
      "outputs": []
    },
    {
      "cell_type": "code",
      "source": [
        "add(34,5,3)"
      ],
      "metadata": {
        "colab": {
          "base_uri": "https://localhost:8080/"
        },
        "id": "fiV7O8Y_bPHp",
        "outputId": "c99dab41-35e7-4b18-8074-7892e01d9b23"
      },
      "execution_count": 45,
      "outputs": [
        {
          "output_type": "execute_result",
          "data": {
            "text/plain": [
              "42"
            ]
          },
          "metadata": {},
          "execution_count": 45
        }
      ]
    },
    {
      "cell_type": "code",
      "source": [
        "def opr(x,y):\n",
        "  return x+y,x-y,x*y,x/y,x%y"
      ],
      "metadata": {
        "id": "CB5O9U5KbRA7"
      },
      "execution_count": 46,
      "outputs": []
    },
    {
      "cell_type": "code",
      "source": [
        "opr(30,6)"
      ],
      "metadata": {
        "colab": {
          "base_uri": "https://localhost:8080/"
        },
        "id": "TAf30k79b6ei",
        "outputId": "8f547bc2-c1f2-4b45-af38-bde59b4bbc73"
      },
      "execution_count": 47,
      "outputs": [
        {
          "output_type": "execute_result",
          "data": {
            "text/plain": [
              "(36, 24, 180, 5.0, 0)"
            ]
          },
          "metadata": {},
          "execution_count": 47
        }
      ]
    },
    {
      "cell_type": "code",
      "source": [
        "# default value\n",
        "def fun(name=\"Dhawal\"):\n",
        "  print(name)\n",
        "\n",
        ""
      ],
      "metadata": {
        "id": "T-CQzzPQcsFe"
      },
      "execution_count": 51,
      "outputs": []
    },
    {
      "cell_type": "code",
      "source": [
        "fun()"
      ],
      "metadata": {
        "colab": {
          "base_uri": "https://localhost:8080/"
        },
        "id": "j_Wq3fYZc2H3",
        "outputId": "65343799-9a59-445c-c264-9f14f74703ce"
      },
      "execution_count": 55,
      "outputs": [
        {
          "output_type": "stream",
          "name": "stdout",
          "text": [
            "Dhawal\n"
          ]
        }
      ]
    },
    {
      "cell_type": "code",
      "source": [
        "# positional arguments\n",
        "def student(name,age):\n",
        "  print(f\"{name} is {age} years old\")\n"
      ],
      "metadata": {
        "id": "Y1zsyoTkb81I"
      },
      "execution_count": 56,
      "outputs": []
    },
    {
      "cell_type": "code",
      "source": [
        "student(30,\"gfg\")"
      ],
      "metadata": {
        "colab": {
          "base_uri": "https://localhost:8080/"
        },
        "id": "PklUQwsddeJ2",
        "outputId": "c1cc3fc1-c49d-4bc9-8733-7de0cab6a6a5"
      },
      "execution_count": 58,
      "outputs": [
        {
          "output_type": "stream",
          "name": "stdout",
          "text": [
            "30 is gfg years old\n"
          ]
        }
      ]
    },
    {
      "cell_type": "code",
      "source": [
        "student(age=30,name=\"gfg\")  # key word argument"
      ],
      "metadata": {
        "colab": {
          "base_uri": "https://localhost:8080/"
        },
        "id": "lAsiFa69difU",
        "outputId": "7729f60f-d1e9-497e-e5b4-a0f9bf69ee79"
      },
      "execution_count": 59,
      "outputs": [
        {
          "output_type": "stream",
          "name": "stdout",
          "text": [
            "gfg is 30 years old\n"
          ]
        }
      ]
    },
    {
      "cell_type": "code",
      "source": [
        "# write a function to print the maximum of the 3 numbers taken from users\n",
        "# a= int(input(\"enter first number \"))\n",
        "# b= int(input(\"enter second number \"))\n",
        "# c= input(int(\"enter third number \"))\n",
        "def max_num(a,b,c):\n",
        "  if a>=b and a>=c:\n",
        "    print(a)\n",
        "  elif b>=a and b>=c:\n",
        "    print(b)\n",
        "  else:\n",
        "    print(c)\n",
        "max_num(10,2,32)\n",
        "\n"
      ],
      "metadata": {
        "colab": {
          "base_uri": "https://localhost:8080/"
        },
        "id": "vFDYfWt-d2fH",
        "outputId": "760d564c-86f2-4ebd-f444-d5ca133c9c98"
      },
      "execution_count": 61,
      "outputs": [
        {
          "output_type": "stream",
          "name": "stdout",
          "text": [
            "32\n"
          ]
        }
      ]
    },
    {
      "cell_type": "code",
      "source": [
        "def max_num():\n",
        " a= int(input(\"enter first number \"))\n",
        " b= int(input(\"enter second number \"))\n",
        " c= int(input(\"enter third number \"))\n",
        " return max(a,b,c)"
      ],
      "metadata": {
        "id": "OudQGYatgFQG"
      },
      "execution_count": 65,
      "outputs": []
    },
    {
      "cell_type": "code",
      "source": [
        "max_num()"
      ],
      "metadata": {
        "colab": {
          "base_uri": "https://localhost:8080/"
        },
        "id": "F36GLO9Wg-7W",
        "outputId": "edd5aec3-4736-4d2c-f3b5-46dbbe44d558"
      },
      "execution_count": 66,
      "outputs": [
        {
          "name": "stdout",
          "output_type": "stream",
          "text": [
            "enter first number 10\n",
            "enter second number 23\n",
            "enter third number 2\n"
          ]
        },
        {
          "output_type": "execute_result",
          "data": {
            "text/plain": [
              "23"
            ]
          },
          "metadata": {},
          "execution_count": 66
        }
      ]
    },
    {
      "cell_type": "code",
      "source": [
        "# write a function to check if a number is even or odd\n",
        "def even_odd():\n",
        "  num = int(input(\"enter a number \"))\n",
        "  if(num%2==0):\n",
        "    print(\"even\")\n",
        "  else:\n",
        "    print(\"odd\")\n",
        "\n",
        "even_odd()"
      ],
      "metadata": {
        "colab": {
          "base_uri": "https://localhost:8080/"
        },
        "id": "g6hiHjuGhBnw",
        "outputId": "6d38b3c2-deb3-47a8-9639-ca3eb269f739"
      },
      "execution_count": 69,
      "outputs": [
        {
          "output_type": "stream",
          "name": "stdout",
          "text": [
            "enter a number 11\n",
            "odd\n"
          ]
        }
      ]
    },
    {
      "cell_type": "code",
      "source": [
        "# print a multiplication table of a number\n",
        "def mult():\n",
        "  n = int(input(\"enter a number \"))\n",
        "  for i in range(1,11):\n",
        "    print(f\"{n}*{i}= {n*i}\")\n",
        "\n",
        "mult()"
      ],
      "metadata": {
        "colab": {
          "base_uri": "https://localhost:8080/"
        },
        "id": "YANqxHfzh3md",
        "outputId": "87b9ae24-4498-4b28-c633-432312b370c7"
      },
      "execution_count": 72,
      "outputs": [
        {
          "output_type": "stream",
          "name": "stdout",
          "text": [
            "enter a number 19\n",
            "19*1= 19\n",
            "19*2= 38\n",
            "19*3= 57\n",
            "19*4= 76\n",
            "19*5= 95\n",
            "19*6= 114\n",
            "19*7= 133\n",
            "19*8= 152\n",
            "19*9= 171\n",
            "19*10= 190\n"
          ]
        }
      ]
    },
    {
      "cell_type": "code",
      "source": [
        "# write a function to find area of a circle\n",
        "def area_of_circle(r):\n",
        "  return 3.14*r*r\n",
        "\n",
        "round(area_of_circle(24),2)"
      ],
      "metadata": {
        "colab": {
          "base_uri": "https://localhost:8080/"
        },
        "id": "v7HFNmm_jQq9",
        "outputId": "d90c972a-d4bc-46d6-911c-e1e2a94e7b04"
      },
      "execution_count": 75,
      "outputs": [
        {
          "output_type": "execute_result",
          "data": {
            "text/plain": [
              "1808.64"
            ]
          },
          "metadata": {},
          "execution_count": 75
        }
      ]
    },
    {
      "cell_type": "code",
      "source": [
        "# write a function to print the length of a string\n",
        "def str1(s):\n",
        "  return len(s)\n",
        "\n",
        "str1(\"dhawal dwivedi\")\n"
      ],
      "metadata": {
        "colab": {
          "base_uri": "https://localhost:8080/"
        },
        "id": "HW-NWsu2kSyr",
        "outputId": "3ae22362-491a-4bd0-ccaf-24fd63bd3e0b"
      },
      "execution_count": 78,
      "outputs": [
        {
          "output_type": "execute_result",
          "data": {
            "text/plain": [
              "14"
            ]
          },
          "metadata": {},
          "execution_count": 78
        }
      ]
    },
    {
      "cell_type": "code",
      "source": [
        "# check for a prime number\n",
        "def is_prime():\n",
        "  n = int(input(\"enter a number \"))\n",
        "  if n<2:\n",
        "    return False\n",
        "\n",
        "  else:\n",
        "    for i in range(2,n):\n",
        "      if n%i==0 :\n",
        "        return False\n",
        "      else:\n",
        "        return True\n",
        "is_prime()"
      ],
      "metadata": {
        "colab": {
          "base_uri": "https://localhost:8080/"
        },
        "id": "u4mesMr-lpYe",
        "outputId": "03f97689-0e3c-44b5-b641-bd399abce3a3"
      },
      "execution_count": 82,
      "outputs": [
        {
          "name": "stdout",
          "output_type": "stream",
          "text": [
            "enter a number 11\n"
          ]
        },
        {
          "output_type": "execute_result",
          "data": {
            "text/plain": [
              "True"
            ]
          },
          "metadata": {},
          "execution_count": 82
        }
      ]
    },
    {
      "cell_type": "code",
      "source": [
        "# convert a temperature from celsius to fahrenheit\n",
        "def cel_to_fah(c):\n",
        "  f = (c*9/5)+32\n",
        "  return f\n",
        "\n",
        "cel_to_fah(25)\n",
        "\n",
        ""
      ],
      "metadata": {
        "colab": {
          "base_uri": "https://localhost:8080/"
        },
        "id": "_uZrZ4kDnVG3",
        "outputId": "15bddd0f-3e7d-41dc-a019-4326c672e11a"
      },
      "execution_count": 84,
      "outputs": [
        {
          "output_type": "execute_result",
          "data": {
            "text/plain": [
              "77.0"
            ]
          },
          "metadata": {},
          "execution_count": 84
        }
      ]
    },
    {
      "cell_type": "code",
      "source": [
        "# check if a given year is a leap year or not\n",
        "# 2024\n",
        "# 2000 - leap year ( div by 4 , div by 100)\n",
        "# 1900 -\n",
        "def leap_year(year):\n",
        "  if (year%4==0 and year%100 !=0) or (year%400==0):\n",
        "    return True\n",
        "  else:\n",
        "    return False\n",
        "leap_year(2024)"
      ],
      "metadata": {
        "colab": {
          "base_uri": "https://localhost:8080/"
        },
        "id": "INdAw4sdqOAx",
        "outputId": "16ab0cf4-88ef-4cdc-cd47-f39555e8f921"
      },
      "execution_count": 87,
      "outputs": [
        {
          "output_type": "execute_result",
          "data": {
            "text/plain": [
              "True"
            ]
          },
          "metadata": {},
          "execution_count": 87
        }
      ]
    },
    {
      "cell_type": "code",
      "source": [],
      "metadata": {
        "id": "5Ya4DxSUsbwv"
      },
      "execution_count": null,
      "outputs": []
    }
  ]
}